{
 "metadata": {
  "language_info": {
   "codemirror_mode": {
    "name": "ipython",
    "version": 3
   },
   "file_extension": ".py",
   "mimetype": "text/x-python",
   "name": "python",
   "nbconvert_exporter": "python",
   "pygments_lexer": "ipython3",
   "version": "3.8.1-final"
  },
  "orig_nbformat": 2,
  "kernelspec": {
   "name": "python_defaultSpec_1599785368296",
   "display_name": "Python 3.8.1 64-bit"
  }
 },
 "nbformat": 4,
 "nbformat_minor": 2,
 "cells": [
  {
   "source": [
    "# Let's Do Some Algebra\n",
    "In a Jupyter notebook, with sympy."
   ],
   "cell_type": "markdown",
   "metadata": {}
  },
  {
   "source": [
    "# First we import sympy:\n",
    "from sympy import *\n",
    "\n",
    "# Init pretty printing\n",
    "init_printing()"
   ],
   "cell_type": "code",
   "metadata": {},
   "execution_count": 187,
   "outputs": []
  },
  {
   "cell_type": "code",
   "execution_count": 188,
   "metadata": {},
   "outputs": [],
   "source": [
    "# Then we define some symbols:\n",
    "x, a, b, c, d = symbols('x, a, b, c, d')"
   ]
  },
  {
   "cell_type": "code",
   "execution_count": 189,
   "metadata": {},
   "outputs": [],
   "source": [
    "# Write some expressions with our symbols:\n",
    "expr1 = a + x * c\n",
    "d = (b - a)\n",
    "\n",
    "# Do some substitution:\n",
    "expr2 = expr1.subs(c, d)"
   ]
  },
  {
   "cell_type": "code",
   "execution_count": 190,
   "metadata": {},
   "outputs": [
    {
     "output_type": "execute_result",
     "data": {
      "text/plain": "a + c⋅x",
      "image/png": "[encoded data removed]",
      "text/latex": "$\\displaystyle a + c x$"
     },
     "metadata": {},
     "execution_count": 190
    }
   ],
   "source": [
    "expr1 # Looks like:"
   ]
  },
  {
   "cell_type": "code",
   "execution_count": 191,
   "metadata": {},
   "outputs": [
    {
     "output_type": "execute_result",
     "data": {
      "text/plain": "a + x⋅(-a + b)",
      "image/png": "[encoded data removed]",
      "text/latex": "$\\displaystyle a + x \\left(- a + b\\right)$"
     },
     "metadata": {},
     "execution_count": 191
    }
   ],
   "source": [
    "expr2 # Looks like:"
   ]
  },
  {
   "source": [
    "# Which looks familiar\n",
    "# Not sure why -a + b rather than b - a, but that's easily fixed later\n",
    "\n",
    "# As C code:\n",
    "ccode(expr2)"
   ],
   "cell_type": "code",
   "metadata": {},
   "execution_count": 192,
   "outputs": [
    {
     "output_type": "execute_result",
     "data": {
      "text/plain": "'a + x*(-a + b)'"
     },
     "metadata": {},
     "execution_count": 192
    }
   ]
  },
  {
   "cell_type": "code",
   "execution_count": 193,
   "metadata": {
    "tags": []
   },
   "outputs": [
    {
     "output_type": "execute_result",
     "data": {
      "text/plain": "u = a + x⋅(-a + b)",
      "image/png": "[encoded data removed]",
      "text/latex": "$\\displaystyle u = a + x \\left(- a + b\\right)$"
     },
     "metadata": {},
     "execution_count": 193
    }
   ],
   "source": [
    "# Equation time!\n",
    "\n",
    "u = symbols('u')\n",
    "eq = Eq(u, expr2)\n",
    "\n",
    "eq"
   ]
  },
  {
   "cell_type": "code",
   "execution_count": 194,
   "metadata": {},
   "outputs": [
    {
     "output_type": "execute_result",
     "data": {
      "text/plain": "⎡a - u⎤\n⎢─────⎥\n⎣a - b⎦",
      "image/png": "[encoded data removed]",
      "text/latex": "$\\displaystyle \\left[ \\frac{a - u}{a - b}\\right]$"
     },
     "metadata": {},
     "execution_count": 194
    }
   ],
   "source": [
    "# Solve for w\n",
    "sol = solve((eq),(x))\n",
    "\n",
    "# Output\n",
    "sol"
   ]
  },
  {
   "cell_type": "code",
   "execution_count": 195,
   "metadata": {},
   "outputs": [
    {
     "output_type": "execute_result",
     "data": {
      "text/plain": "'[(a - u)/(a - b)]'"
     },
     "metadata": {},
     "execution_count": 195
    }
   ],
   "source": [
    "# As code\n",
    "ccode(sol)"
   ]
  },
  {
   "source": [
    "The \"inverse\" of the linear interpolation formula!\n",
    "\n",
    "Easy enough to do by hand, but for demonstration purposes...\n",
    "Could be useful."
   ],
   "cell_type": "markdown",
   "metadata": {}
  }
 ]
}